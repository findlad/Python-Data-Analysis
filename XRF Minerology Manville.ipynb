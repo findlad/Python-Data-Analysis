{
 "cells": [
  {
   "cell_type": "code",
   "execution_count": 224,
   "metadata": {
    "scrolled": true
   },
   "outputs": [],
   "source": [
    "import pandas as pd\n",
    "from pandas import Series, DataFrame\n",
    "from numpy.random import randn\n",
    "import numpy as np\n",
    "\n",
    "from scipy import stats\n",
    "\n",
    "import matplotlib as mpl\n",
    "import matplotlib.pyplot as plt\n",
    "import seaborn as sns\n",
    "sns.set_style('whitegrid')\n",
    "\n",
    "#makes plots appear in the notebook\n",
    "%matplotlib inline\n",
    "\n",
    "import sklearn\n",
    "from sklearn.linear_model import LinearRegression\n",
    "from sklearn import linear_model\n",
    "from sklearn.preprocessing import PolynomialFeatures\n",
    "\n",
    "from datetime import datetime\n",
    "import requests\n",
    "from io import StringIO\n",
    "\n",
    "import statsmodels.api as sm\n",
    "from sklearn.metrics import r2_score\n",
    "from sklearn.pipeline import make_pipeline"
   ]
  },
  {
   "cell_type": "code",
   "execution_count": 225,
   "metadata": {},
   "outputs": [],
   "source": [
    "xrfdata=pd.read_csv (r'L:\\D\\DuncanF\\XRFCal.csv')"
   ]
  },
  {
   "cell_type": "code",
   "execution_count": 226,
   "metadata": {},
   "outputs": [],
   "source": [
    "xrfdf=DataFrame(xrfdata)"
   ]
  },
  {
   "cell_type": "code",
   "execution_count": 227,
   "metadata": {},
   "outputs": [],
   "source": [
    "xrfdf=xrfdf.set_index('Depth')"
   ]
  },
  {
   "cell_type": "code",
   "execution_count": 228,
   "metadata": {
    "scrolled": true
   },
   "outputs": [],
   "source": [
    "elements=xrfdf.drop(['Qtz','K-spar','Plag','Kaolinite', 'Illite', 'Smectite', 'Mg.Smectite','Glauconite', 'Chlorite', 'Calcite', 'Dolomite','Ankerite', 'Pyrite','Coal','Qtz.+.Feld','Clays','Carbonate+Py'],axis=1)"
   ]
  },
  {
   "cell_type": "code",
   "execution_count": 229,
   "metadata": {},
   "outputs": [
    {
     "data": {
      "text/html": [
       "<div>\n",
       "<style scoped>\n",
       "    .dataframe tbody tr th:only-of-type {\n",
       "        vertical-align: middle;\n",
       "    }\n",
       "\n",
       "    .dataframe tbody tr th {\n",
       "        vertical-align: top;\n",
       "    }\n",
       "\n",
       "    .dataframe thead th {\n",
       "        text-align: right;\n",
       "    }\n",
       "</style>\n",
       "<table border=\"1\" class=\"dataframe\">\n",
       "  <thead>\n",
       "    <tr style=\"text-align: right;\">\n",
       "      <th></th>\n",
       "      <th>Na</th>\n",
       "      <th>Mg</th>\n",
       "      <th>Al</th>\n",
       "      <th>Si</th>\n",
       "      <th>P</th>\n",
       "      <th>S</th>\n",
       "      <th>Cl</th>\n",
       "      <th>K</th>\n",
       "      <th>Ca</th>\n",
       "      <th>Ti</th>\n",
       "      <th>...</th>\n",
       "      <th>Rb</th>\n",
       "      <th>Sr</th>\n",
       "      <th>Y</th>\n",
       "      <th>Zr</th>\n",
       "      <th>Nb</th>\n",
       "      <th>Mo</th>\n",
       "      <th>Ba</th>\n",
       "      <th>Pb</th>\n",
       "      <th>Th</th>\n",
       "      <th>U</th>\n",
       "    </tr>\n",
       "    <tr>\n",
       "      <th>Depth</th>\n",
       "      <th></th>\n",
       "      <th></th>\n",
       "      <th></th>\n",
       "      <th></th>\n",
       "      <th></th>\n",
       "      <th></th>\n",
       "      <th></th>\n",
       "      <th></th>\n",
       "      <th></th>\n",
       "      <th></th>\n",
       "      <th></th>\n",
       "      <th></th>\n",
       "      <th></th>\n",
       "      <th></th>\n",
       "      <th></th>\n",
       "      <th></th>\n",
       "      <th></th>\n",
       "      <th></th>\n",
       "      <th></th>\n",
       "      <th></th>\n",
       "      <th></th>\n",
       "    </tr>\n",
       "  </thead>\n",
       "  <tbody>\n",
       "    <tr>\n",
       "      <td>291.5</td>\n",
       "      <td>1.400892</td>\n",
       "      <td>0.987307</td>\n",
       "      <td>8.444962</td>\n",
       "      <td>28.815236</td>\n",
       "      <td>0.047391</td>\n",
       "      <td>0.660065</td>\n",
       "      <td>0.0</td>\n",
       "      <td>2.008183</td>\n",
       "      <td>0.313410</td>\n",
       "      <td>0.390184</td>\n",
       "      <td>...</td>\n",
       "      <td>0.011997</td>\n",
       "      <td>0.020487</td>\n",
       "      <td>0.002862</td>\n",
       "      <td>0.020016</td>\n",
       "      <td>0.002129</td>\n",
       "      <td>0.000362</td>\n",
       "      <td>0.073610</td>\n",
       "      <td>0.002197</td>\n",
       "      <td>0.001099</td>\n",
       "      <td>0.000000</td>\n",
       "    </tr>\n",
       "    <tr>\n",
       "      <td>291.7</td>\n",
       "      <td>2.192267</td>\n",
       "      <td>0.891897</td>\n",
       "      <td>7.512934</td>\n",
       "      <td>30.522028</td>\n",
       "      <td>0.062330</td>\n",
       "      <td>0.403997</td>\n",
       "      <td>0.0</td>\n",
       "      <td>1.895364</td>\n",
       "      <td>0.276442</td>\n",
       "      <td>0.377849</td>\n",
       "      <td>...</td>\n",
       "      <td>0.010585</td>\n",
       "      <td>0.021759</td>\n",
       "      <td>0.003297</td>\n",
       "      <td>0.024895</td>\n",
       "      <td>0.001708</td>\n",
       "      <td>0.000215</td>\n",
       "      <td>0.071527</td>\n",
       "      <td>0.002605</td>\n",
       "      <td>0.001707</td>\n",
       "      <td>0.000000</td>\n",
       "    </tr>\n",
       "    <tr>\n",
       "      <td>291.9</td>\n",
       "      <td>1.270678</td>\n",
       "      <td>0.953775</td>\n",
       "      <td>7.719398</td>\n",
       "      <td>30.033172</td>\n",
       "      <td>0.096765</td>\n",
       "      <td>0.634428</td>\n",
       "      <td>0.0</td>\n",
       "      <td>1.874682</td>\n",
       "      <td>0.287604</td>\n",
       "      <td>0.325719</td>\n",
       "      <td>...</td>\n",
       "      <td>0.009666</td>\n",
       "      <td>0.019659</td>\n",
       "      <td>0.002861</td>\n",
       "      <td>0.019705</td>\n",
       "      <td>0.001792</td>\n",
       "      <td>0.000670</td>\n",
       "      <td>0.074641</td>\n",
       "      <td>0.002049</td>\n",
       "      <td>0.000630</td>\n",
       "      <td>0.000000</td>\n",
       "    </tr>\n",
       "    <tr>\n",
       "      <td>292.1</td>\n",
       "      <td>1.304300</td>\n",
       "      <td>1.153923</td>\n",
       "      <td>8.962972</td>\n",
       "      <td>28.587291</td>\n",
       "      <td>0.029305</td>\n",
       "      <td>0.524236</td>\n",
       "      <td>0.0</td>\n",
       "      <td>2.007632</td>\n",
       "      <td>0.250124</td>\n",
       "      <td>0.384405</td>\n",
       "      <td>...</td>\n",
       "      <td>0.011892</td>\n",
       "      <td>0.022942</td>\n",
       "      <td>0.002478</td>\n",
       "      <td>0.017906</td>\n",
       "      <td>0.001903</td>\n",
       "      <td>0.000866</td>\n",
       "      <td>0.080349</td>\n",
       "      <td>0.002707</td>\n",
       "      <td>0.001777</td>\n",
       "      <td>0.000574</td>\n",
       "    </tr>\n",
       "    <tr>\n",
       "      <td>292.3</td>\n",
       "      <td>1.460732</td>\n",
       "      <td>0.943332</td>\n",
       "      <td>8.366978</td>\n",
       "      <td>27.843581</td>\n",
       "      <td>0.022133</td>\n",
       "      <td>0.659656</td>\n",
       "      <td>0.0</td>\n",
       "      <td>1.846548</td>\n",
       "      <td>0.176400</td>\n",
       "      <td>0.348602</td>\n",
       "      <td>...</td>\n",
       "      <td>0.011851</td>\n",
       "      <td>0.020452</td>\n",
       "      <td>0.002585</td>\n",
       "      <td>0.016786</td>\n",
       "      <td>0.002024</td>\n",
       "      <td>0.000545</td>\n",
       "      <td>0.069900</td>\n",
       "      <td>0.002792</td>\n",
       "      <td>0.001587</td>\n",
       "      <td>0.000769</td>\n",
       "    </tr>\n",
       "    <tr>\n",
       "      <td>...</td>\n",
       "      <td>...</td>\n",
       "      <td>...</td>\n",
       "      <td>...</td>\n",
       "      <td>...</td>\n",
       "      <td>...</td>\n",
       "      <td>...</td>\n",
       "      <td>...</td>\n",
       "      <td>...</td>\n",
       "      <td>...</td>\n",
       "      <td>...</td>\n",
       "      <td>...</td>\n",
       "      <td>...</td>\n",
       "      <td>...</td>\n",
       "      <td>...</td>\n",
       "      <td>...</td>\n",
       "      <td>...</td>\n",
       "      <td>...</td>\n",
       "      <td>...</td>\n",
       "      <td>...</td>\n",
       "      <td>...</td>\n",
       "      <td>...</td>\n",
       "    </tr>\n",
       "    <tr>\n",
       "      <td>456.9</td>\n",
       "      <td>1.373596</td>\n",
       "      <td>0.000000</td>\n",
       "      <td>0.000000</td>\n",
       "      <td>0.180816</td>\n",
       "      <td>0.015892</td>\n",
       "      <td>0.264920</td>\n",
       "      <td>0.0</td>\n",
       "      <td>0.019810</td>\n",
       "      <td>8.668584</td>\n",
       "      <td>0.012645</td>\n",
       "      <td>...</td>\n",
       "      <td>0.001517</td>\n",
       "      <td>0.046499</td>\n",
       "      <td>0.000000</td>\n",
       "      <td>0.001308</td>\n",
       "      <td>0.000000</td>\n",
       "      <td>0.000587</td>\n",
       "      <td>0.007107</td>\n",
       "      <td>0.001120</td>\n",
       "      <td>0.000287</td>\n",
       "      <td>0.002148</td>\n",
       "    </tr>\n",
       "    <tr>\n",
       "      <td>457.1</td>\n",
       "      <td>1.624484</td>\n",
       "      <td>0.000000</td>\n",
       "      <td>0.000000</td>\n",
       "      <td>0.171103</td>\n",
       "      <td>0.014459</td>\n",
       "      <td>0.275571</td>\n",
       "      <td>0.0</td>\n",
       "      <td>0.016932</td>\n",
       "      <td>10.551529</td>\n",
       "      <td>0.010759</td>\n",
       "      <td>...</td>\n",
       "      <td>0.000746</td>\n",
       "      <td>0.040306</td>\n",
       "      <td>0.000478</td>\n",
       "      <td>0.000000</td>\n",
       "      <td>0.000000</td>\n",
       "      <td>0.000649</td>\n",
       "      <td>0.000000</td>\n",
       "      <td>0.000000</td>\n",
       "      <td>0.000000</td>\n",
       "      <td>0.000000</td>\n",
       "    </tr>\n",
       "    <tr>\n",
       "      <td>457.3</td>\n",
       "      <td>3.944078</td>\n",
       "      <td>0.000000</td>\n",
       "      <td>0.000000</td>\n",
       "      <td>0.148568</td>\n",
       "      <td>0.000000</td>\n",
       "      <td>1.150432</td>\n",
       "      <td>0.0</td>\n",
       "      <td>0.075000</td>\n",
       "      <td>24.495343</td>\n",
       "      <td>0.019337</td>\n",
       "      <td>...</td>\n",
       "      <td>0.000335</td>\n",
       "      <td>0.030105</td>\n",
       "      <td>0.000000</td>\n",
       "      <td>0.000480</td>\n",
       "      <td>0.000466</td>\n",
       "      <td>0.000458</td>\n",
       "      <td>0.008490</td>\n",
       "      <td>0.000748</td>\n",
       "      <td>0.000425</td>\n",
       "      <td>0.000000</td>\n",
       "    </tr>\n",
       "    <tr>\n",
       "      <td>457.5</td>\n",
       "      <td>2.221854</td>\n",
       "      <td>0.000000</td>\n",
       "      <td>0.722206</td>\n",
       "      <td>1.607256</td>\n",
       "      <td>0.007700</td>\n",
       "      <td>0.308727</td>\n",
       "      <td>0.0</td>\n",
       "      <td>0.022840</td>\n",
       "      <td>14.061650</td>\n",
       "      <td>0.012408</td>\n",
       "      <td>...</td>\n",
       "      <td>0.000429</td>\n",
       "      <td>0.037540</td>\n",
       "      <td>0.000611</td>\n",
       "      <td>0.000617</td>\n",
       "      <td>0.000000</td>\n",
       "      <td>0.000588</td>\n",
       "      <td>0.014813</td>\n",
       "      <td>0.000000</td>\n",
       "      <td>0.000000</td>\n",
       "      <td>0.000000</td>\n",
       "    </tr>\n",
       "    <tr>\n",
       "      <td>457.7</td>\n",
       "      <td>3.089971</td>\n",
       "      <td>0.000000</td>\n",
       "      <td>0.000000</td>\n",
       "      <td>0.632032</td>\n",
       "      <td>0.000000</td>\n",
       "      <td>0.316699</td>\n",
       "      <td>0.0</td>\n",
       "      <td>0.050687</td>\n",
       "      <td>21.691194</td>\n",
       "      <td>0.023188</td>\n",
       "      <td>...</td>\n",
       "      <td>0.000000</td>\n",
       "      <td>0.038711</td>\n",
       "      <td>0.000000</td>\n",
       "      <td>0.000000</td>\n",
       "      <td>0.000000</td>\n",
       "      <td>0.000549</td>\n",
       "      <td>0.008878</td>\n",
       "      <td>0.000000</td>\n",
       "      <td>0.000000</td>\n",
       "      <td>0.000000</td>\n",
       "    </tr>\n",
       "  </tbody>\n",
       "</table>\n",
       "<p>2790 rows × 31 columns</p>\n",
       "</div>"
      ],
      "text/plain": [
       "             Na        Mg        Al         Si         P         S   Cl  \\\n",
       "Depth                                                                     \n",
       "291.5  1.400892  0.987307  8.444962  28.815236  0.047391  0.660065  0.0   \n",
       "291.7  2.192267  0.891897  7.512934  30.522028  0.062330  0.403997  0.0   \n",
       "291.9  1.270678  0.953775  7.719398  30.033172  0.096765  0.634428  0.0   \n",
       "292.1  1.304300  1.153923  8.962972  28.587291  0.029305  0.524236  0.0   \n",
       "292.3  1.460732  0.943332  8.366978  27.843581  0.022133  0.659656  0.0   \n",
       "...         ...       ...       ...        ...       ...       ...  ...   \n",
       "456.9  1.373596  0.000000  0.000000   0.180816  0.015892  0.264920  0.0   \n",
       "457.1  1.624484  0.000000  0.000000   0.171103  0.014459  0.275571  0.0   \n",
       "457.3  3.944078  0.000000  0.000000   0.148568  0.000000  1.150432  0.0   \n",
       "457.5  2.221854  0.000000  0.722206   1.607256  0.007700  0.308727  0.0   \n",
       "457.7  3.089971  0.000000  0.000000   0.632032  0.000000  0.316699  0.0   \n",
       "\n",
       "              K         Ca        Ti  ...        Rb        Sr         Y  \\\n",
       "Depth                                 ...                                 \n",
       "291.5  2.008183   0.313410  0.390184  ...  0.011997  0.020487  0.002862   \n",
       "291.7  1.895364   0.276442  0.377849  ...  0.010585  0.021759  0.003297   \n",
       "291.9  1.874682   0.287604  0.325719  ...  0.009666  0.019659  0.002861   \n",
       "292.1  2.007632   0.250124  0.384405  ...  0.011892  0.022942  0.002478   \n",
       "292.3  1.846548   0.176400  0.348602  ...  0.011851  0.020452  0.002585   \n",
       "...         ...        ...       ...  ...       ...       ...       ...   \n",
       "456.9  0.019810   8.668584  0.012645  ...  0.001517  0.046499  0.000000   \n",
       "457.1  0.016932  10.551529  0.010759  ...  0.000746  0.040306  0.000478   \n",
       "457.3  0.075000  24.495343  0.019337  ...  0.000335  0.030105  0.000000   \n",
       "457.5  0.022840  14.061650  0.012408  ...  0.000429  0.037540  0.000611   \n",
       "457.7  0.050687  21.691194  0.023188  ...  0.000000  0.038711  0.000000   \n",
       "\n",
       "             Zr        Nb        Mo        Ba        Pb        Th         U  \n",
       "Depth                                                                        \n",
       "291.5  0.020016  0.002129  0.000362  0.073610  0.002197  0.001099  0.000000  \n",
       "291.7  0.024895  0.001708  0.000215  0.071527  0.002605  0.001707  0.000000  \n",
       "291.9  0.019705  0.001792  0.000670  0.074641  0.002049  0.000630  0.000000  \n",
       "292.1  0.017906  0.001903  0.000866  0.080349  0.002707  0.001777  0.000574  \n",
       "292.3  0.016786  0.002024  0.000545  0.069900  0.002792  0.001587  0.000769  \n",
       "...         ...       ...       ...       ...       ...       ...       ...  \n",
       "456.9  0.001308  0.000000  0.000587  0.007107  0.001120  0.000287  0.002148  \n",
       "457.1  0.000000  0.000000  0.000649  0.000000  0.000000  0.000000  0.000000  \n",
       "457.3  0.000480  0.000466  0.000458  0.008490  0.000748  0.000425  0.000000  \n",
       "457.5  0.000617  0.000000  0.000588  0.014813  0.000000  0.000000  0.000000  \n",
       "457.7  0.000000  0.000000  0.000549  0.008878  0.000000  0.000000  0.000000  \n",
       "\n",
       "[2790 rows x 31 columns]"
      ]
     },
     "execution_count": 229,
     "metadata": {},
     "output_type": "execute_result"
    }
   ],
   "source": [
    "elements"
   ]
  },
  {
   "cell_type": "code",
   "execution_count": 230,
   "metadata": {},
   "outputs": [
    {
     "data": {
      "text/plain": [
       "Text(0.5, 1.0, 'Predicted Quartz value  R2: 0.9513773648931646')"
      ]
     },
     "execution_count": 230,
     "metadata": {},
     "output_type": "execute_result"
    },
    {
     "data": {
      "image/png": "[encoded data removed]",
      "text/plain": [
       "<Figure size 432x288 with 1 Axes>"
      ]
     },
     "metadata": {
      "needs_background": "light"
     },
     "output_type": "display_data"
    }
   ],
   "source": [
    "Qtz=xrfdf.Qtz\n",
    "x_train,x_test,y_train,y_test=sklearn.model_selection.train_test_split(elements,Qtz)\n",
    "lregQtz=LinearRegression()\n",
    "lregQtz.fit(x_train,y_train)\n",
    "predict_train=lregQtz.predict(x_train)\n",
    "predict_test=lregQtz.predict(x_test)\n",
    "predict_test[predict_test < 0] = 0 # zero out negative numbers\n",
    "sns.scatterplot(x=predict_test,y=y_test)\n",
    "ax=plt.gca()\n",
    "ax.set_title('Predicted Quartz value  R2: ' + str(r2_score(predict_test, y_test)))"
   ]
  },
  {
   "cell_type": "code",
   "execution_count": 231,
   "metadata": {},
   "outputs": [
    {
     "data": {
      "text/plain": [
       "Na         0.008494\n",
       "Mg        -0.439371\n",
       "Al        -0.510235\n",
       "Si         0.424227\n",
       "P         -0.191798\n",
       "S          0.097973\n",
       "Cl        -0.047025\n",
       "K         -0.370376\n",
       "Ca        -0.401835\n",
       "Ti        -0.070987\n",
       "V         -0.393741\n",
       "Cr        -0.234152\n",
       "Mn        -0.229777\n",
       "Fe        -0.325095\n",
       "Co        -0.253151\n",
       "Ni        -0.306820\n",
       "Cu        -0.434515\n",
       "Zn        -0.270890\n",
       "Ga        -0.420901\n",
       "As        -0.074013\n",
       "Se        -0.074003\n",
       "Rb        -0.125304\n",
       "Sr        -0.477132\n",
       "Y          0.251355\n",
       "Zr         0.527375\n",
       "Nb         0.182480\n",
       "Mo        -0.129893\n",
       "Ba        -0.209193\n",
       "Pb        -0.059501\n",
       "Th         0.039854\n",
       "U         -0.073337\n",
       "Mineral    1.000000\n",
       "dtype: float64"
      ]
     },
     "execution_count": 231,
     "metadata": {},
     "output_type": "execute_result"
    }
   ],
   "source": [
    "rtest=elements.copy()\n",
    "rtest['Mineral']=Qtz\n",
    "\n",
    "rtest.corrwith(rtest['Mineral'],axis=0, method='pearson')"
   ]
  },
  {
   "cell_type": "code",
   "execution_count": 232,
   "metadata": {},
   "outputs": [
    {
     "data": {
      "text/plain": [
       "Text(0.5, 1.0, 'Predicted K Spar value  R2: 0.9460383845558894')"
      ]
     },
     "execution_count": 232,
     "metadata": {},
     "output_type": "execute_result"
    },
    {
     "data": {
      "image/png": "[encoded data removed]",
      "text/plain": [
       "<Figure size 432x288 with 1 Axes>"
      ]
     },
     "metadata": {
      "needs_background": "light"
     },
     "output_type": "display_data"
    }
   ],
   "source": [
    "Kspar=xrfdf['K-spar']\n",
    "x_train,x_test,y_train,y_test=sklearn.model_selection.train_test_split(elements,Kspar)\n",
    "lregKspar=LinearRegression()\n",
    "lregKspar.fit(x_train,y_train)\n",
    "predict_train=lregKspar.predict(x_train)\n",
    "predict_test=lregKspar.predict(x_test)\n",
    "predict_test[predict_test < 0] = 0 # zero out negative numbers\n",
    "sns.scatterplot(x=predict_test,y=y_test)\n",
    "ax=plt.gca()\n",
    "\n",
    "ax.set_title('Predicted K Spar value  R2: ' + str(r2_score(predict_test, y_test)))"
   ]
  },
  {
   "cell_type": "code",
   "execution_count": 233,
   "metadata": {},
   "outputs": [
    {
     "data": {
      "text/plain": [
       "Text(0.5, 1.0, 'Predicted Plag value  R2: 0.5435101323305074')"
      ]
     },
     "execution_count": 233,
     "metadata": {},
     "output_type": "execute_result"
    },
    {
     "data": {
      "image/png": "[encoded data removed]",
      "text/plain": [
       "<Figure size 432x288 with 1 Axes>"
      ]
     },
     "metadata": {
      "needs_background": "light"
     },
     "output_type": "display_data"
    }
   ],
   "source": [
    "Plag=xrfdf.Plag\n",
    "x_train,x_test,y_train,y_test=sklearn.model_selection.train_test_split(elements,Plag)\n",
    "lregPlag=LinearRegression()\n",
    "lregPlag.fit(x_train,y_train)\n",
    "predict_train=lregPlag.predict(x_train)\n",
    "predict_test=lregPlag.predict(x_test)\n",
    "predict_test[predict_test < 0] = 0 # zero out negative numbers\n",
    "sns.scatterplot(x=predict_test,y=y_test)\n",
    "ax=plt.gca()\n",
    "\n",
    "ax.set_title('Predicted Plag value  R2: ' + str(r2_score(predict_test, y_test)))"
   ]
  },
  {
   "cell_type": "code",
   "execution_count": 234,
   "metadata": {},
   "outputs": [
    {
     "data": {
      "text/plain": [
       "Text(0.5, 1.0, 'Predicted Kaolinite value  R2: 0.7948818403740516')"
      ]
     },
     "execution_count": 234,
     "metadata": {},
     "output_type": "execute_result"
    },
    {
     "data": {
      "image/png": "[encoded data removed]",
      "text/plain": [
       "<Figure size 432x288 with 1 Axes>"
      ]
     },
     "metadata": {
      "needs_background": "light"
     },
     "output_type": "display_data"
    }
   ],
   "source": [
    "Kaolinite=xrfdf.Kaolinite\n",
    "x_train,x_test,y_train,y_test=sklearn.model_selection.train_test_split(elements,Kaolinite)\n",
    "lregKaolinite=LinearRegression()\n",
    "lregKaolinite.fit(x_train,y_train)\n",
    "predict_train=lregKaolinite.predict(x_train)\n",
    "predict_test=lregKaolinite.predict(x_test)\n",
    "predict_test[predict_test < 0] = 0\n",
    "sns.scatterplot(x=predict_test,y=y_test)\n",
    "ax=plt.gca()\n",
    "\n",
    "ax.set_title('Predicted Kaolinite value  R2: ' + str(r2_score(predict_test, y_test)))"
   ]
  },
  {
   "cell_type": "code",
   "execution_count": 235,
   "metadata": {},
   "outputs": [
    {
     "data": {
      "text/plain": [
       "Text(0.5, 1.0, 'Polynomial Predicted Kaolinite value  R2: 0.2597158505289954')"
      ]
     },
     "execution_count": 235,
     "metadata": {},
     "output_type": "execute_result"
    },
    {
     "data": {
      "image/png": "[encoded data removed]",
      "text/plain": [
       "<Figure size 432x288 with 1 Axes>"
      ]
     },
     "metadata": {
      "needs_background": "light"
     },
     "output_type": "display_data"
    }
   ],
   "source": [
    "degree=2\n",
    "polyregKaolinite=make_pipeline(PolynomialFeatures(degree),LinearRegression())\n",
    "polyregKaolinite.fit(x_train,y_train)\n",
    "predict_train=polyregKaolinite.predict(x_train)\n",
    "predict_test=polyregKaolinite.predict(x_test)\n",
    "predict_test[predict_test < 0] = 0\n",
    "predict_test[predict_test > 100] = 100\n",
    "sns.scatterplot(x=predict_test,y=y_test)\n",
    "ax=plt.gca()\n",
    "\n",
    "ax.set_title('Polynomial Predicted Kaolinite value  R2: ' + str(r2_score(predict_test, y_test)))"
   ]
  },
  {
   "cell_type": "code",
   "execution_count": 236,
   "metadata": {},
   "outputs": [
    {
     "data": {
      "text/plain": [
       "Text(0.5, 1.0, 'Predicted Illite value  R2: 0.8774634269326521')"
      ]
     },
     "execution_count": 236,
     "metadata": {},
     "output_type": "execute_result"
    },
    {
     "data": {
      "image/png": "[encoded data removed]",
      "text/plain": [
       "<Figure size 432x288 with 1 Axes>"
      ]
     },
     "metadata": {
      "needs_background": "light"
     },
     "output_type": "display_data"
    }
   ],
   "source": [
    "Illite=xrfdf.Illite\n",
    "x_train,x_test,y_train,y_test=sklearn.model_selection.train_test_split(elements,Illite)\n",
    "lregIllite=LinearRegression()\n",
    "lregIllite.fit(x_train,y_train)\n",
    "predict_train=lregIllite.predict(x_train)\n",
    "predict_test=lregIllite.predict(x_test)\n",
    "predict_test[predict_test < 0] = 0\n",
    "sns.scatterplot(x=predict_test,y=y_test)\n",
    "ax=plt.gca()\n",
    "\n",
    "ax.set_title('Predicted Illite value  R2: ' + str(r2_score(predict_test, y_test)))"
   ]
  },
  {
   "cell_type": "code",
   "execution_count": 237,
   "metadata": {},
   "outputs": [
    {
     "data": {
      "text/plain": [
       "Text(0.5, 1.0, 'Polynomial Predicted Illite value  R2: 0.2130539817868311')"
      ]
     },
     "execution_count": 237,
     "metadata": {},
     "output_type": "execute_result"
    },
    {
     "data": {
      "image/png": "[encoded data removed]",
      "text/plain": [
       "<Figure size 432x288 with 1 Axes>"
      ]
     },
     "metadata": {
      "needs_background": "light"
     },
     "output_type": "display_data"
    }
   ],
   "source": [
    "\n",
    "degree=2\n",
    "polyregIllite=make_pipeline(PolynomialFeatures(degree),LinearRegression())\n",
    "polyregIllite.fit(x_train,y_train)\n",
    "predict_train=polyregIllite.predict(x_train)\n",
    "predict_test=polyregIllite.predict(x_test)\n",
    "predict_test[predict_test < 0] = 0\n",
    "predict_test[predict_test > 100] = 100\n",
    "sns.scatterplot(x=predict_test,y=y_test)\n",
    "ax=plt.gca()\n",
    "\n",
    "ax.set_title('Polynomial Predicted Illite value  R2: ' + str(r2_score(predict_test, y_test)))"
   ]
  },
  {
   "cell_type": "code",
   "execution_count": 238,
   "metadata": {},
   "outputs": [
    {
     "data": {
      "text/plain": [
       "Text(0.5, 1.0, 'Predicted Smectite value  R2: 0.7465785207127622')"
      ]
     },
     "execution_count": 238,
     "metadata": {},
     "output_type": "execute_result"
    },
    {
     "data": {
      "image/png": "[encoded data removed]",
      "text/plain": [
       "<Figure size 432x288 with 1 Axes>"
      ]
     },
     "metadata": {
      "needs_background": "light"
     },
     "output_type": "display_data"
    }
   ],
   "source": [
    "Smectite=xrfdf.Smectite\n",
    "x_train,x_test,y_train,y_test=sklearn.model_selection.train_test_split(elements,Smectite)\n",
    "lregSmectite=LinearRegression()\n",
    "lregSmectite.fit(x_train,y_train)\n",
    "predict_train=lregSmectite.predict(x_train)\n",
    "predict_test=lregSmectite.predict(x_test)\n",
    "predict_test[predict_test < 0] = 0\n",
    "sns.scatterplot(x=predict_test,y=y_test)\n",
    "ax=plt.gca()\n",
    "\n",
    "ax.set_title('Predicted Smectite value  R2: ' + str(r2_score(predict_test, y_test)))"
   ]
  },
  {
   "cell_type": "code",
   "execution_count": 239,
   "metadata": {},
   "outputs": [
    {
     "data": {
      "text/plain": [
       "Text(0.5, 1.0, 'Polynomial Predicted Smectite value  R2: 0.5582131469427286')"
      ]
     },
     "execution_count": 239,
     "metadata": {},
     "output_type": "execute_result"
    },
    {
     "data": {
      "image/png": "[encoded data removed]",
      "text/plain": [
       "<Figure size 432x288 with 1 Axes>"
      ]
     },
     "metadata": {
      "needs_background": "light"
     },
     "output_type": "display_data"
    }
   ],
   "source": [
    "\n",
    "degree=2\n",
    "polyregSmectite=make_pipeline(PolynomialFeatures(degree),LinearRegression())\n",
    "polyregSmectite.fit(x_train,y_train)\n",
    "predict_train=polyregSmectite.predict(x_train)\n",
    "predict_test=polyregSmectite.predict(x_test)\n",
    "predict_test[predict_test < 0] = 0\n",
    "predict_test[predict_test > 100] = 100\n",
    "sns.scatterplot(x=predict_test,y=y_test)\n",
    "ax=plt.gca()\n",
    "\n",
    "ax.set_title('Polynomial Predicted Smectite value  R2: ' + str(r2_score(predict_test, y_test)))"
   ]
  },
  {
   "cell_type": "code",
   "execution_count": 240,
   "metadata": {},
   "outputs": [
    {
     "data": {
      "text/plain": [
       "Text(0.5, 1.0, 'Predicted Mg Smectite value  R2: 1.0')"
      ]
     },
     "execution_count": 240,
     "metadata": {},
     "output_type": "execute_result"
    },
    {
     "data": {
      "image/png": "[encoded data removed]",
      "text/plain": [
       "<Figure size 432x288 with 1 Axes>"
      ]
     },
     "metadata": {
      "needs_background": "light"
     },
     "output_type": "display_data"
    }
   ],
   "source": [
    "MgSmectite=xrfdf['Mg.Smectite']\n",
    "x_train,x_test,y_train,y_test=sklearn.model_selection.train_test_split(elements,MgSmectite)\n",
    "lregMgSmectite=LinearRegression()\n",
    "lregMgSmectite.fit(x_train,y_train)\n",
    "predict_train=lregMgSmectite.predict(x_train)\n",
    "predict_test=lregMgSmectite.predict(x_test)\n",
    "predict_test[predict_test < 0] = 0\n",
    "sns.scatterplot(x=predict_test,y=y_test)\n",
    "ax=plt.gca()\n",
    "\n",
    "ax.set_title('Predicted Mg Smectite value  R2: ' + str(r2_score(predict_test, y_test)))"
   ]
  },
  {
   "cell_type": "code",
   "execution_count": 241,
   "metadata": {},
   "outputs": [
    {
     "data": {
      "text/plain": [
       "Text(0.5, 1.0, 'Predicted Glauconite value  R2: 1.0')"
      ]
     },
     "execution_count": 241,
     "metadata": {},
     "output_type": "execute_result"
    },
    {
     "data": {
      "image/png": "[encoded data removed]",
      "text/plain": [
       "<Figure size 432x288 with 1 Axes>"
      ]
     },
     "metadata": {
      "needs_background": "light"
     },
     "output_type": "display_data"
    }
   ],
   "source": [
    "Glauconite=xrfdf['Glauconite']\n",
    "x_train,x_test,y_train,y_test=sklearn.model_selection.train_test_split(elements,Glauconite)\n",
    "lregGlauconite=LinearRegression()\n",
    "lregGlauconite.fit(x_train,y_train)\n",
    "predict_train=lregGlauconite.predict(x_train)\n",
    "predict_test=lregGlauconite.predict(x_test)\n",
    "predict_test[predict_test < 0] = 0\n",
    "sns.scatterplot(x=predict_test,y=y_test)\n",
    "ax=plt.gca()\n",
    "ax.set_title('Predicted Glauconite value  R2: ' + str(r2_score(predict_test, y_test)))"
   ]
  },
  {
   "cell_type": "code",
   "execution_count": 242,
   "metadata": {},
   "outputs": [
    {
     "data": {
      "text/plain": [
       "Text(0.5, 1.0, 'Predicted Chlorite value  R2: -2.7011009173578957')"
      ]
     },
     "execution_count": 242,
     "metadata": {},
     "output_type": "execute_result"
    },
    {
     "data": {
      "image/png": "[encoded data removed]",
      "text/plain": [
       "<Figure size 432x288 with 1 Axes>"
      ]
     },
     "metadata": {
      "needs_background": "light"
     },
     "output_type": "display_data"
    }
   ],
   "source": [
    "Chlorite=xrfdf['Chlorite']\n",
    "x_train,x_test,y_train,y_test=sklearn.model_selection.train_test_split(elements,Chlorite)\n",
    "lregChlorite=LinearRegression()\n",
    "lregChlorite.fit(x_train,y_train)\n",
    "predict_train=lregChlorite.predict(x_train)\n",
    "predict_test=lregChlorite.predict(x_test)\n",
    "predict_test[predict_test < 0] = 0\n",
    "sns.scatterplot(x=predict_test,y=y_test)\n",
    "ax=plt.gca()\n",
    "ax.set_title('Predicted Chlorite value  R2: ' + str(r2_score(predict_test, y_test)))"
   ]
  },
  {
   "cell_type": "code",
   "execution_count": 243,
   "metadata": {},
   "outputs": [
    {
     "data": {
      "text/plain": [
       "Text(0.5, 1.0, 'Predicted Calcite value  R2: 0.9194323454477248')"
      ]
     },
     "execution_count": 243,
     "metadata": {},
     "output_type": "execute_result"
    },
    {
     "data": {
      "image/png": "[encoded data removed]",
      "text/plain": [
       "<Figure size 432x288 with 1 Axes>"
      ]
     },
     "metadata": {
      "needs_background": "light"
     },
     "output_type": "display_data"
    }
   ],
   "source": [
    "Calcite=xrfdf['Calcite']\n",
    "x_train,x_test,y_train,y_test=sklearn.model_selection.train_test_split(elements,Calcite)\n",
    "lregCalcite=LinearRegression()\n",
    "lregCalcite.fit(x_train,y_train)\n",
    "predict_train=lregCalcite.predict(x_train)\n",
    "predict_test=lregCalcite.predict(x_test)\n",
    "predict_test[predict_test < 0] = 0\n",
    "sns.scatterplot(x=predict_test,y=y_test)\n",
    "ax=plt.gca()\n",
    "ax.set_title('Predicted Calcite value  R2: ' + str(r2_score(predict_test, y_test)))"
   ]
  },
  {
   "cell_type": "code",
   "execution_count": 244,
   "metadata": {},
   "outputs": [
    {
     "data": {
      "text/plain": [
       "Text(0.5, 1.0, 'Predicted Dolomite value  R2: 1.0')"
      ]
     },
     "execution_count": 244,
     "metadata": {},
     "output_type": "execute_result"
    },
    {
     "data": {
      "image/png": "[encoded data removed]",
      "text/plain": [
       "<Figure size 432x288 with 1 Axes>"
      ]
     },
     "metadata": {
      "needs_background": "light"
     },
     "output_type": "display_data"
    }
   ],
   "source": [
    "Dolomite=xrfdf['Dolomite']\n",
    "x_train,x_test,y_train,y_test=sklearn.model_selection.train_test_split(elements,Dolomite)\n",
    "lregDolomite=LinearRegression()\n",
    "lregDolomite.fit(x_train,y_train)\n",
    "predict_train=lregDolomite.predict(x_train)\n",
    "predict_test=lregDolomite.predict(x_test)\n",
    "predict_test[predict_test < 0] = 0\n",
    "sns.scatterplot(x=predict_test,y=y_test)\n",
    "ax=plt.gca()\n",
    "ax.set_title('Predicted Dolomite value  R2: ' + str(r2_score(predict_test, y_test)))"
   ]
  },
  {
   "cell_type": "code",
   "execution_count": 245,
   "metadata": {},
   "outputs": [
    {
     "data": {
      "text/plain": [
       "Text(0.5, 1.0, 'Predicted Ankerite value  R2: 0.8589655432933059')"
      ]
     },
     "execution_count": 245,
     "metadata": {},
     "output_type": "execute_result"
    },
    {
     "data": {
      "image/png": "[encoded data removed]",
      "text/plain": [
       "<Figure size 432x288 with 1 Axes>"
      ]
     },
     "metadata": {
      "needs_background": "light"
     },
     "output_type": "display_data"
    }
   ],
   "source": [
    "Ankerite=xrfdf['Ankerite']\n",
    "x_train,x_test,y_train,y_test=sklearn.model_selection.train_test_split(elements,Ankerite)\n",
    "lregAnkerite=LinearRegression()\n",
    "lregAnkerite.fit(x_train,y_train)\n",
    "predict_train=lregAnkerite.predict(x_train)\n",
    "predict_test=lregAnkerite.predict(x_test)\n",
    "predict_test[predict_test < 0] = 0\n",
    "sns.scatterplot(x=predict_test,y=y_test)\n",
    "ax=plt.gca()\n",
    "ax.set_title('Predicted Ankerite value  R2: ' + str(r2_score(predict_test, y_test)))"
   ]
  },
  {
   "cell_type": "code",
   "execution_count": 246,
   "metadata": {},
   "outputs": [
    {
     "data": {
      "text/plain": [
       "Text(0.5, 1.0, 'Polynomial Predicted Ankerite value  R2: 0.8487918367671858')"
      ]
     },
     "execution_count": 246,
     "metadata": {},
     "output_type": "execute_result"
    },
    {
     "data": {
      "image/png": "[encoded data removed]",
      "text/plain": [
       "<Figure size 432x288 with 1 Axes>"
      ]
     },
     "metadata": {
      "needs_background": "light"
     },
     "output_type": "display_data"
    }
   ],
   "source": [
    "\n",
    "degree=2\n",
    "polyregAnkerite=make_pipeline(PolynomialFeatures(degree),LinearRegression())\n",
    "polyregAnkerite.fit(x_train,y_train)\n",
    "predict_train=polyregAnkerite.predict(x_train)\n",
    "predict_test=polyregAnkerite.predict(x_test)\n",
    "predict_test[predict_test < 0] = 0\n",
    "predict_test[predict_test > 100] = 100\n",
    "sns.scatterplot(x=predict_test,y=y_test)\n",
    "ax=plt.gca()\n",
    "\n",
    "ax.set_title('Polynomial Predicted Ankerite value  R2: ' + str(r2_score(predict_test, y_test)))"
   ]
  },
  {
   "cell_type": "code",
   "execution_count": 247,
   "metadata": {},
   "outputs": [
    {
     "data": {
      "text/plain": [
       "Text(0.5, 1.0, 'Predicted Pyrite value  R2: 0.6388490388801702')"
      ]
     },
     "execution_count": 247,
     "metadata": {},
     "output_type": "execute_result"
    },
    {
     "data": {
      "image/png": "[encoded data removed]",
      "text/plain": [
       "<Figure size 432x288 with 1 Axes>"
      ]
     },
     "metadata": {
      "needs_background": "light"
     },
     "output_type": "display_data"
    }
   ],
   "source": [
    "Pyrite=xrfdf['Pyrite']\n",
    "x_train,x_test,y_train,y_test=sklearn.model_selection.train_test_split(elements,Pyrite)\n",
    "lregPyrite=LinearRegression()\n",
    "lregPyrite.fit(x_train,y_train)\n",
    "predict_train=lregPyrite.predict(x_train)\n",
    "predict_test=lregPyrite.predict(x_test)\n",
    "predict_test[predict_test < 0] = 0\n",
    "sns.scatterplot(x=predict_test,y=y_test)\n",
    "ax=plt.gca()\n",
    "ax.set_title('Predicted Pyrite value  R2: ' + str(r2_score(predict_test, y_test)))"
   ]
  },
  {
   "cell_type": "code",
   "execution_count": 248,
   "metadata": {},
   "outputs": [
    {
     "data": {
      "text/plain": [
       "Text(0.5, 1.0, 'Polynomial Predicted Pyrite value  R2: 0.29028172865455204')"
      ]
     },
     "execution_count": 248,
     "metadata": {},
     "output_type": "execute_result"
    },
    {
     "data": {
      "image/png": "[encoded data removed]",
      "text/plain": [
       "<Figure size 432x288 with 1 Axes>"
      ]
     },
     "metadata": {
      "needs_background": "light"
     },
     "output_type": "display_data"
    }
   ],
   "source": [
    "\n",
    "degree=2\n",
    "polyregPyrite=make_pipeline(PolynomialFeatures(degree),LinearRegression())\n",
    "polyregPyrite.fit(x_train,y_train)\n",
    "predict_train=polyregPyrite.predict(x_train)\n",
    "predict_test=polyregPyrite.predict(x_test)\n",
    "predict_test[predict_test < 0] = 0\n",
    "predict_test[predict_test > 100] = 100\n",
    "sns.scatterplot(x=predict_test,y=y_test)\n",
    "ax=plt.gca()\n",
    "\n",
    "ax.set_title('Polynomial Predicted Pyrite value  R2: ' + str(r2_score(predict_test, y_test)))"
   ]
  },
  {
   "cell_type": "code",
   "execution_count": 249,
   "metadata": {},
   "outputs": [
    {
     "data": {
      "text/html": [
       "<div>\n",
       "<style scoped>\n",
       "    .dataframe tbody tr th:only-of-type {\n",
       "        vertical-align: middle;\n",
       "    }\n",
       "\n",
       "    .dataframe tbody tr th {\n",
       "        vertical-align: top;\n",
       "    }\n",
       "\n",
       "    .dataframe thead th {\n",
       "        text-align: right;\n",
       "    }\n",
       "</style>\n",
       "<table border=\"1\" class=\"dataframe\">\n",
       "  <thead>\n",
       "    <tr style=\"text-align: right;\">\n",
       "      <th></th>\n",
       "      <th>Features</th>\n",
       "      <th>Coefficient Estimate</th>\n",
       "    </tr>\n",
       "  </thead>\n",
       "  <tbody>\n",
       "    <tr>\n",
       "      <td>0</td>\n",
       "      <td>Na</td>\n",
       "      <td>0.012446</td>\n",
       "    </tr>\n",
       "    <tr>\n",
       "      <td>1</td>\n",
       "      <td>Mg</td>\n",
       "      <td>0.013800</td>\n",
       "    </tr>\n",
       "    <tr>\n",
       "      <td>2</td>\n",
       "      <td>Al</td>\n",
       "      <td>-0.029753</td>\n",
       "    </tr>\n",
       "    <tr>\n",
       "      <td>3</td>\n",
       "      <td>Si</td>\n",
       "      <td>-0.011556</td>\n",
       "    </tr>\n",
       "    <tr>\n",
       "      <td>4</td>\n",
       "      <td>P</td>\n",
       "      <td>-0.158598</td>\n",
       "    </tr>\n",
       "    <tr>\n",
       "      <td>5</td>\n",
       "      <td>S</td>\n",
       "      <td>0.020638</td>\n",
       "    </tr>\n",
       "    <tr>\n",
       "      <td>6</td>\n",
       "      <td>Cl</td>\n",
       "      <td>0.177784</td>\n",
       "    </tr>\n",
       "    <tr>\n",
       "      <td>7</td>\n",
       "      <td>K</td>\n",
       "      <td>-0.057580</td>\n",
       "    </tr>\n",
       "    <tr>\n",
       "      <td>8</td>\n",
       "      <td>Ca</td>\n",
       "      <td>-0.012860</td>\n",
       "    </tr>\n",
       "    <tr>\n",
       "      <td>9</td>\n",
       "      <td>Ti</td>\n",
       "      <td>0.227294</td>\n",
       "    </tr>\n",
       "    <tr>\n",
       "      <td>10</td>\n",
       "      <td>V</td>\n",
       "      <td>0.824913</td>\n",
       "    </tr>\n",
       "    <tr>\n",
       "      <td>11</td>\n",
       "      <td>Cr</td>\n",
       "      <td>0.101443</td>\n",
       "    </tr>\n",
       "    <tr>\n",
       "      <td>12</td>\n",
       "      <td>Mn</td>\n",
       "      <td>-1.216461</td>\n",
       "    </tr>\n",
       "    <tr>\n",
       "      <td>13</td>\n",
       "      <td>Fe</td>\n",
       "      <td>0.337344</td>\n",
       "    </tr>\n",
       "    <tr>\n",
       "      <td>14</td>\n",
       "      <td>Co</td>\n",
       "      <td>-308.749904</td>\n",
       "    </tr>\n",
       "    <tr>\n",
       "      <td>15</td>\n",
       "      <td>Ni</td>\n",
       "      <td>7.813873</td>\n",
       "    </tr>\n",
       "    <tr>\n",
       "      <td>16</td>\n",
       "      <td>Cu</td>\n",
       "      <td>-22.816119</td>\n",
       "    </tr>\n",
       "    <tr>\n",
       "      <td>17</td>\n",
       "      <td>Zn</td>\n",
       "      <td>3.629293</td>\n",
       "    </tr>\n",
       "    <tr>\n",
       "      <td>18</td>\n",
       "      <td>Ga</td>\n",
       "      <td>-43.424470</td>\n",
       "    </tr>\n",
       "    <tr>\n",
       "      <td>19</td>\n",
       "      <td>As</td>\n",
       "      <td>67.699533</td>\n",
       "    </tr>\n",
       "    <tr>\n",
       "      <td>20</td>\n",
       "      <td>Se</td>\n",
       "      <td>-43.157682</td>\n",
       "    </tr>\n",
       "    <tr>\n",
       "      <td>21</td>\n",
       "      <td>Rb</td>\n",
       "      <td>2.004939</td>\n",
       "    </tr>\n",
       "    <tr>\n",
       "      <td>22</td>\n",
       "      <td>Sr</td>\n",
       "      <td>1.604787</td>\n",
       "    </tr>\n",
       "    <tr>\n",
       "      <td>23</td>\n",
       "      <td>Y</td>\n",
       "      <td>4.605205</td>\n",
       "    </tr>\n",
       "    <tr>\n",
       "      <td>24</td>\n",
       "      <td>Zr</td>\n",
       "      <td>1.256535</td>\n",
       "    </tr>\n",
       "    <tr>\n",
       "      <td>25</td>\n",
       "      <td>Nb</td>\n",
       "      <td>-13.945582</td>\n",
       "    </tr>\n",
       "    <tr>\n",
       "      <td>26</td>\n",
       "      <td>Mo</td>\n",
       "      <td>28.851072</td>\n",
       "    </tr>\n",
       "    <tr>\n",
       "      <td>27</td>\n",
       "      <td>Ba</td>\n",
       "      <td>0.408321</td>\n",
       "    </tr>\n",
       "    <tr>\n",
       "      <td>28</td>\n",
       "      <td>Pb</td>\n",
       "      <td>-12.090198</td>\n",
       "    </tr>\n",
       "    <tr>\n",
       "      <td>29</td>\n",
       "      <td>Th</td>\n",
       "      <td>14.214159</td>\n",
       "    </tr>\n",
       "    <tr>\n",
       "      <td>30</td>\n",
       "      <td>U</td>\n",
       "      <td>41.871571</td>\n",
       "    </tr>\n",
       "  </tbody>\n",
       "</table>\n",
       "</div>"
      ],
      "text/plain": [
       "   Features  Coefficient Estimate\n",
       "0        Na              0.012446\n",
       "1        Mg              0.013800\n",
       "2        Al             -0.029753\n",
       "3        Si             -0.011556\n",
       "4         P             -0.158598\n",
       "5         S              0.020638\n",
       "6        Cl              0.177784\n",
       "7         K             -0.057580\n",
       "8        Ca             -0.012860\n",
       "9        Ti              0.227294\n",
       "10        V              0.824913\n",
       "11       Cr              0.101443\n",
       "12       Mn             -1.216461\n",
       "13       Fe              0.337344\n",
       "14       Co           -308.749904\n",
       "15       Ni              7.813873\n",
       "16       Cu            -22.816119\n",
       "17       Zn              3.629293\n",
       "18       Ga            -43.424470\n",
       "19       As             67.699533\n",
       "20       Se            -43.157682\n",
       "21       Rb              2.004939\n",
       "22       Sr              1.604787\n",
       "23        Y              4.605205\n",
       "24       Zr              1.256535\n",
       "25       Nb            -13.945582\n",
       "26       Mo             28.851072\n",
       "27       Ba              0.408321\n",
       "28       Pb            -12.090198\n",
       "29       Th             14.214159\n",
       "30        U             41.871571"
      ]
     },
     "execution_count": 249,
     "metadata": {},
     "output_type": "execute_result"
    }
   ],
   "source": [
    "coeff_Pyrite = DataFrame(elements.columns)\n",
    "coeff_Pyrite.columns = ['Features']\n",
    "coeff_Pyrite['Coefficient Estimate']= Series(lregPyrite.coef_)\n",
    "coeff_Pyrite"
   ]
  },
  {
   "cell_type": "code",
   "execution_count": 250,
   "metadata": {},
   "outputs": [
    {
     "data": {
      "text/plain": [
       "Na         0.280117\n",
       "Mg         0.074331\n",
       "Al         0.055272\n",
       "Si        -0.286206\n",
       "P          0.304715\n",
       "S          0.281830\n",
       "Cl         0.002232\n",
       "K          0.047594\n",
       "Ca        -0.192795\n",
       "Ti        -0.059839\n",
       "V          0.498070\n",
       "Cr         0.244881\n",
       "Mn         0.024789\n",
       "Fe         0.288149\n",
       "Co         0.131611\n",
       "Ni         0.364446\n",
       "Cu         0.161602\n",
       "Zn         0.307385\n",
       "Ga         0.289859\n",
       "As         0.394512\n",
       "Se         0.037863\n",
       "Rb         0.160884\n",
       "Sr         0.336588\n",
       "Y         -0.100714\n",
       "Zr        -0.271598\n",
       "Nb        -0.171822\n",
       "Mo         0.152170\n",
       "Ba         0.367411\n",
       "Pb        -0.030685\n",
       "Th        -0.163089\n",
       "U         -0.021600\n",
       "Mineral    1.000000\n",
       "dtype: float64"
      ]
     },
     "execution_count": 250,
     "metadata": {},
     "output_type": "execute_result"
    }
   ],
   "source": [
    "rtest=elements.copy()\n",
    "rtest['Mineral']=Pyrite\n",
    "\n",
    "rtest.corrwith(rtest['Mineral'],axis=0, method='pearson')"
   ]
  },
  {
   "cell_type": "code",
   "execution_count": 251,
   "metadata": {},
   "outputs": [
    {
     "data": {
      "text/plain": [
       "Text(0.5, 1.0, 'Predicted Coal value  R2: -17.978871815428654')"
      ]
     },
     "execution_count": 251,
     "metadata": {},
     "output_type": "execute_result"
    },
    {
     "data": {
      "image/png": "[encoded data removed]",
      "text/plain": [
       "<Figure size 432x288 with 1 Axes>"
      ]
     },
     "metadata": {
      "needs_background": "light"
     },
     "output_type": "display_data"
    }
   ],
   "source": [
    "Coal=xrfdf['Coal']\n",
    "x_train,x_test,y_train,y_test=sklearn.model_selection.train_test_split(elements,Coal)\n",
    "lregCoal=LinearRegression()\n",
    "lregCoal.fit(x_train,y_train)\n",
    "predict_train=lregCoal.predict(x_train)\n",
    "predict_test=lregCoal.predict(x_test)\n",
    "predict_test[predict_test < 0] = 0\n",
    "sns.scatterplot(x=predict_test,y=y_test)\n",
    "ax=plt.gca()\n",
    "ax.set_title('Predicted Coal value  R2: ' + str(r2_score(predict_test, y_test)))"
   ]
  },
  {
   "cell_type": "code",
   "execution_count": 252,
   "metadata": {},
   "outputs": [
    {
     "data": {
      "text/plain": [
       "Text(0.5, 1.0, 'Predicted Clay value  R2:0.8060888179966088')"
      ]
     },
     "execution_count": 252,
     "metadata": {},
     "output_type": "execute_result"
    },
    {
     "data": {
      "image/png": "[encoded data removed]",
      "text/plain": [
       "<Figure size 432x288 with 1 Axes>"
      ]
     },
     "metadata": {
      "needs_background": "light"
     },
     "output_type": "display_data"
    }
   ],
   "source": [
    "Clays=xrfdf['Clays']\n",
    "x_train,x_test,y_train,y_test=sklearn.model_selection.train_test_split(elements,Clays)\n",
    "lregClays=LinearRegression()\n",
    "lregClays.fit(x_train,y_train)\n",
    "predict_train=lregClays.predict(x_train)\n",
    "predict_test=lregClays.predict(x_test)\n",
    "predict_test[predict_test < 0] = 0\n",
    "sns.scatterplot(x=predict_test,y=y_test)\n",
    "ax=plt.gca()\n",
    "ax.set_title('Predicted Clay value  R2:' + str(r2_score(predict_test, y_test)))"
   ]
  },
  {
   "cell_type": "code",
   "execution_count": 253,
   "metadata": {},
   "outputs": [
    {
     "data": {
      "text/html": [
       "<div>\n",
       "<style scoped>\n",
       "    .dataframe tbody tr th:only-of-type {\n",
       "        vertical-align: middle;\n",
       "    }\n",
       "\n",
       "    .dataframe tbody tr th {\n",
       "        vertical-align: top;\n",
       "    }\n",
       "\n",
       "    .dataframe thead th {\n",
       "        text-align: right;\n",
       "    }\n",
       "</style>\n",
       "<table border=\"1\" class=\"dataframe\">\n",
       "  <thead>\n",
       "    <tr style=\"text-align: right;\">\n",
       "      <th></th>\n",
       "      <th>Features</th>\n",
       "      <th>Coefficient Estimate</th>\n",
       "    </tr>\n",
       "  </thead>\n",
       "  <tbody>\n",
       "    <tr>\n",
       "      <td>0</td>\n",
       "      <td>Na</td>\n",
       "      <td>-6.513702</td>\n",
       "    </tr>\n",
       "    <tr>\n",
       "      <td>1</td>\n",
       "      <td>Mg</td>\n",
       "      <td>1.440038</td>\n",
       "    </tr>\n",
       "    <tr>\n",
       "      <td>2</td>\n",
       "      <td>Al</td>\n",
       "      <td>8.431635</td>\n",
       "    </tr>\n",
       "    <tr>\n",
       "      <td>3</td>\n",
       "      <td>Si</td>\n",
       "      <td>-0.405176</td>\n",
       "    </tr>\n",
       "    <tr>\n",
       "      <td>4</td>\n",
       "      <td>P</td>\n",
       "      <td>12.473452</td>\n",
       "    </tr>\n",
       "    <tr>\n",
       "      <td>5</td>\n",
       "      <td>S</td>\n",
       "      <td>0.066140</td>\n",
       "    </tr>\n",
       "    <tr>\n",
       "      <td>6</td>\n",
       "      <td>Cl</td>\n",
       "      <td>-1.168096</td>\n",
       "    </tr>\n",
       "    <tr>\n",
       "      <td>7</td>\n",
       "      <td>K</td>\n",
       "      <td>-13.631508</td>\n",
       "    </tr>\n",
       "    <tr>\n",
       "      <td>8</td>\n",
       "      <td>Ca</td>\n",
       "      <td>0.472529</td>\n",
       "    </tr>\n",
       "    <tr>\n",
       "      <td>9</td>\n",
       "      <td>Ti</td>\n",
       "      <td>-3.799580</td>\n",
       "    </tr>\n",
       "    <tr>\n",
       "      <td>10</td>\n",
       "      <td>V</td>\n",
       "      <td>147.188641</td>\n",
       "    </tr>\n",
       "    <tr>\n",
       "      <td>11</td>\n",
       "      <td>Cr</td>\n",
       "      <td>-186.141880</td>\n",
       "    </tr>\n",
       "    <tr>\n",
       "      <td>12</td>\n",
       "      <td>Mn</td>\n",
       "      <td>-12.002121</td>\n",
       "    </tr>\n",
       "    <tr>\n",
       "      <td>13</td>\n",
       "      <td>Fe</td>\n",
       "      <td>-0.756741</td>\n",
       "    </tr>\n",
       "    <tr>\n",
       "      <td>14</td>\n",
       "      <td>Co</td>\n",
       "      <td>1582.635265</td>\n",
       "    </tr>\n",
       "    <tr>\n",
       "      <td>15</td>\n",
       "      <td>Ni</td>\n",
       "      <td>35.261345</td>\n",
       "    </tr>\n",
       "    <tr>\n",
       "      <td>16</td>\n",
       "      <td>Cu</td>\n",
       "      <td>402.814535</td>\n",
       "    </tr>\n",
       "    <tr>\n",
       "      <td>17</td>\n",
       "      <td>Zn</td>\n",
       "      <td>-39.923933</td>\n",
       "    </tr>\n",
       "    <tr>\n",
       "      <td>18</td>\n",
       "      <td>Ga</td>\n",
       "      <td>682.112313</td>\n",
       "    </tr>\n",
       "    <tr>\n",
       "      <td>19</td>\n",
       "      <td>As</td>\n",
       "      <td>-273.932297</td>\n",
       "    </tr>\n",
       "    <tr>\n",
       "      <td>20</td>\n",
       "      <td>Se</td>\n",
       "      <td>15.438543</td>\n",
       "    </tr>\n",
       "    <tr>\n",
       "      <td>21</td>\n",
       "      <td>Rb</td>\n",
       "      <td>1535.833304</td>\n",
       "    </tr>\n",
       "    <tr>\n",
       "      <td>22</td>\n",
       "      <td>Sr</td>\n",
       "      <td>-93.303605</td>\n",
       "    </tr>\n",
       "    <tr>\n",
       "      <td>23</td>\n",
       "      <td>Y</td>\n",
       "      <td>-741.843836</td>\n",
       "    </tr>\n",
       "    <tr>\n",
       "      <td>24</td>\n",
       "      <td>Zr</td>\n",
       "      <td>90.498038</td>\n",
       "    </tr>\n",
       "    <tr>\n",
       "      <td>25</td>\n",
       "      <td>Nb</td>\n",
       "      <td>-393.774278</td>\n",
       "    </tr>\n",
       "    <tr>\n",
       "      <td>26</td>\n",
       "      <td>Mo</td>\n",
       "      <td>533.395187</td>\n",
       "    </tr>\n",
       "    <tr>\n",
       "      <td>27</td>\n",
       "      <td>Ba</td>\n",
       "      <td>-14.618183</td>\n",
       "    </tr>\n",
       "    <tr>\n",
       "      <td>28</td>\n",
       "      <td>Pb</td>\n",
       "      <td>-426.337538</td>\n",
       "    </tr>\n",
       "    <tr>\n",
       "      <td>29</td>\n",
       "      <td>Th</td>\n",
       "      <td>919.589591</td>\n",
       "    </tr>\n",
       "    <tr>\n",
       "      <td>30</td>\n",
       "      <td>U</td>\n",
       "      <td>-124.031337</td>\n",
       "    </tr>\n",
       "  </tbody>\n",
       "</table>\n",
       "</div>"
      ],
      "text/plain": [
       "   Features  Coefficient Estimate\n",
       "0        Na             -6.513702\n",
       "1        Mg              1.440038\n",
       "2        Al              8.431635\n",
       "3        Si             -0.405176\n",
       "4         P             12.473452\n",
       "5         S              0.066140\n",
       "6        Cl             -1.168096\n",
       "7         K            -13.631508\n",
       "8        Ca              0.472529\n",
       "9        Ti             -3.799580\n",
       "10        V            147.188641\n",
       "11       Cr           -186.141880\n",
       "12       Mn            -12.002121\n",
       "13       Fe             -0.756741\n",
       "14       Co           1582.635265\n",
       "15       Ni             35.261345\n",
       "16       Cu            402.814535\n",
       "17       Zn            -39.923933\n",
       "18       Ga            682.112313\n",
       "19       As           -273.932297\n",
       "20       Se             15.438543\n",
       "21       Rb           1535.833304\n",
       "22       Sr            -93.303605\n",
       "23        Y           -741.843836\n",
       "24       Zr             90.498038\n",
       "25       Nb           -393.774278\n",
       "26       Mo            533.395187\n",
       "27       Ba            -14.618183\n",
       "28       Pb           -426.337538\n",
       "29       Th            919.589591\n",
       "30        U           -124.031337"
      ]
     },
     "execution_count": 253,
     "metadata": {},
     "output_type": "execute_result"
    }
   ],
   "source": [
    "coeff_Clay = DataFrame(elements.columns)\n",
    "coeff_Clay.columns = ['Features']\n",
    "coeff_Clay['Coefficient Estimate']= Series(lregClays.coef_)\n",
    "\n",
    "coeff_Clay"
   ]
  },
  {
   "cell_type": "code",
   "execution_count": 254,
   "metadata": {},
   "outputs": [
    {
     "data": {
      "text/plain": [
       "Na        -0.426179\n",
       "Mg         0.468331\n",
       "Al         0.779465\n",
       "Si         0.246965\n",
       "P          0.093019\n",
       "S         -0.295299\n",
       "Cl         0.055205\n",
       "K          0.615891\n",
       "Ca        -0.132037\n",
       "Ti         0.465391\n",
       "V          0.292820\n",
       "Cr         0.237578\n",
       "Mn         0.008853\n",
       "Fe         0.142663\n",
       "Co         0.079322\n",
       "Ni         0.209838\n",
       "Cu         0.443668\n",
       "Zn         0.240497\n",
       "Ga         0.555777\n",
       "As         0.161018\n",
       "Se         0.043999\n",
       "Rb         0.599190\n",
       "Sr        -0.038070\n",
       "Y          0.256583\n",
       "Zr        -0.059396\n",
       "Nb         0.306424\n",
       "Mo        -0.010150\n",
       "Ba        -0.085526\n",
       "Pb         0.227257\n",
       "Th         0.319850\n",
       "U          0.114449\n",
       "Mineral    1.000000\n",
       "dtype: float64"
      ]
     },
     "execution_count": 254,
     "metadata": {},
     "output_type": "execute_result"
    }
   ],
   "source": [
    "rtest=elements.copy()\n",
    "rtest['Mineral']=Clays\n",
    "\n",
    "rtest.corrwith(rtest['Mineral'],axis=0, method='pearson')\n"
   ]
  },
  {
   "cell_type": "code",
   "execution_count": 255,
   "metadata": {},
   "outputs": [
    {
     "data": {
      "text/plain": [
       "Text(0.5, 1.0, 'Polynomial Predicted Clay value  R2: 0.7733248200409563')"
      ]
     },
     "execution_count": 255,
     "metadata": {},
     "output_type": "execute_result"
    },
    {
     "data": {
      "image/png": "[encoded data removed]",
      "text/plain": [
       "<Figure size 432x288 with 1 Axes>"
      ]
     },
     "metadata": {
      "needs_background": "light"
     },
     "output_type": "display_data"
    }
   ],
   "source": [
    "degree=2\n",
    "polyregClay=make_pipeline(PolynomialFeatures(degree),LinearRegression())\n",
    "polyregClay.fit(x_train,y_train)\n",
    "predict_train=polyregClay.predict(x_train)\n",
    "predict_test=polyregClay.predict(x_test)\n",
    "predict_test[predict_test < 0] = 0\n",
    "predict_test[predict_test > 100] = 100\n",
    "sns.scatterplot(x=predict_test,y=y_test)\n",
    "ax=plt.gca()\n",
    "\n",
    "ax.set_title('Polynomial Predicted Clay value  R2: ' + str(r2_score(predict_test, y_test)))"
   ]
  },
  {
   "cell_type": "code",
   "execution_count": 256,
   "metadata": {
    "scrolled": true
   },
   "outputs": [
    {
     "data": {
      "text/html": [
       "<div>\n",
       "<style scoped>\n",
       "    .dataframe tbody tr th:only-of-type {\n",
       "        vertical-align: middle;\n",
       "    }\n",
       "\n",
       "    .dataframe tbody tr th {\n",
       "        vertical-align: top;\n",
       "    }\n",
       "\n",
       "    .dataframe thead th {\n",
       "        text-align: right;\n",
       "    }\n",
       "</style>\n",
       "<table border=\"1\" class=\"dataframe\">\n",
       "  <thead>\n",
       "    <tr style=\"text-align: right;\">\n",
       "      <th></th>\n",
       "      <th>Na</th>\n",
       "      <th>Mg</th>\n",
       "      <th>Al</th>\n",
       "      <th>Si</th>\n",
       "      <th>P</th>\n",
       "      <th>S</th>\n",
       "      <th>Cl</th>\n",
       "      <th>K</th>\n",
       "      <th>Ca</th>\n",
       "      <th>Ti</th>\n",
       "      <th>...</th>\n",
       "      <th>Rb</th>\n",
       "      <th>Sr</th>\n",
       "      <th>Y</th>\n",
       "      <th>Zr</th>\n",
       "      <th>Nb</th>\n",
       "      <th>Mo</th>\n",
       "      <th>Ba</th>\n",
       "      <th>Pb</th>\n",
       "      <th>Th</th>\n",
       "      <th>U</th>\n",
       "    </tr>\n",
       "    <tr>\n",
       "      <th>Depth</th>\n",
       "      <th></th>\n",
       "      <th></th>\n",
       "      <th></th>\n",
       "      <th></th>\n",
       "      <th></th>\n",
       "      <th></th>\n",
       "      <th></th>\n",
       "      <th></th>\n",
       "      <th></th>\n",
       "      <th></th>\n",
       "      <th></th>\n",
       "      <th></th>\n",
       "      <th></th>\n",
       "      <th></th>\n",
       "      <th></th>\n",
       "      <th></th>\n",
       "      <th></th>\n",
       "      <th></th>\n",
       "      <th></th>\n",
       "      <th></th>\n",
       "      <th></th>\n",
       "    </tr>\n",
       "  </thead>\n",
       "  <tbody>\n",
       "    <tr>\n",
       "      <td>478.4</td>\n",
       "      <td>0.83</td>\n",
       "      <td>0.35</td>\n",
       "      <td>3.62</td>\n",
       "      <td>16.66</td>\n",
       "      <td>0.02842</td>\n",
       "      <td>0.27</td>\n",
       "      <td>0.00</td>\n",
       "      <td>1.15</td>\n",
       "      <td>0.83</td>\n",
       "      <td>0.17563</td>\n",
       "      <td>...</td>\n",
       "      <td>0.00524</td>\n",
       "      <td>0.03382</td>\n",
       "      <td>0.00215</td>\n",
       "      <td>0.01415</td>\n",
       "      <td>0.00087</td>\n",
       "      <td>0.00032</td>\n",
       "      <td>0.08858</td>\n",
       "      <td>0.00115</td>\n",
       "      <td>0.00000</td>\n",
       "      <td>0.00000</td>\n",
       "    </tr>\n",
       "    <tr>\n",
       "      <td>478.5</td>\n",
       "      <td>1.29</td>\n",
       "      <td>0.43</td>\n",
       "      <td>4.35</td>\n",
       "      <td>19.07</td>\n",
       "      <td>0.03281</td>\n",
       "      <td>0.85</td>\n",
       "      <td>0.10</td>\n",
       "      <td>1.44</td>\n",
       "      <td>1.05</td>\n",
       "      <td>0.19798</td>\n",
       "      <td>...</td>\n",
       "      <td>0.00571</td>\n",
       "      <td>0.03785</td>\n",
       "      <td>0.00137</td>\n",
       "      <td>0.00910</td>\n",
       "      <td>0.00112</td>\n",
       "      <td>0.00000</td>\n",
       "      <td>0.09684</td>\n",
       "      <td>0.00094</td>\n",
       "      <td>0.00000</td>\n",
       "      <td>0.00000</td>\n",
       "    </tr>\n",
       "    <tr>\n",
       "      <td>478.6</td>\n",
       "      <td>1.39</td>\n",
       "      <td>1.14</td>\n",
       "      <td>5.83</td>\n",
       "      <td>19.56</td>\n",
       "      <td>0.03926</td>\n",
       "      <td>0.75</td>\n",
       "      <td>0.30</td>\n",
       "      <td>1.20</td>\n",
       "      <td>1.69</td>\n",
       "      <td>0.43200</td>\n",
       "      <td>...</td>\n",
       "      <td>0.00487</td>\n",
       "      <td>0.05091</td>\n",
       "      <td>0.00205</td>\n",
       "      <td>0.01494</td>\n",
       "      <td>0.00062</td>\n",
       "      <td>0.00043</td>\n",
       "      <td>0.07692</td>\n",
       "      <td>0.00101</td>\n",
       "      <td>0.00146</td>\n",
       "      <td>0.00077</td>\n",
       "    </tr>\n",
       "    <tr>\n",
       "      <td>478.7</td>\n",
       "      <td>1.20</td>\n",
       "      <td>0.46</td>\n",
       "      <td>4.52</td>\n",
       "      <td>19.77</td>\n",
       "      <td>0.04542</td>\n",
       "      <td>0.23</td>\n",
       "      <td>0.07</td>\n",
       "      <td>1.17</td>\n",
       "      <td>1.21</td>\n",
       "      <td>0.21723</td>\n",
       "      <td>...</td>\n",
       "      <td>0.00477</td>\n",
       "      <td>0.03609</td>\n",
       "      <td>0.00176</td>\n",
       "      <td>0.01316</td>\n",
       "      <td>0.00062</td>\n",
       "      <td>0.00032</td>\n",
       "      <td>0.10168</td>\n",
       "      <td>0.00072</td>\n",
       "      <td>0.00000</td>\n",
       "      <td>0.00000</td>\n",
       "    </tr>\n",
       "    <tr>\n",
       "      <td>478.8</td>\n",
       "      <td>1.84</td>\n",
       "      <td>0.53</td>\n",
       "      <td>4.77</td>\n",
       "      <td>20.29</td>\n",
       "      <td>0.03470</td>\n",
       "      <td>0.27</td>\n",
       "      <td>1.78</td>\n",
       "      <td>1.50</td>\n",
       "      <td>1.20</td>\n",
       "      <td>0.22565</td>\n",
       "      <td>...</td>\n",
       "      <td>0.00552</td>\n",
       "      <td>0.03598</td>\n",
       "      <td>0.00156</td>\n",
       "      <td>0.00890</td>\n",
       "      <td>0.00087</td>\n",
       "      <td>0.00000</td>\n",
       "      <td>0.12841</td>\n",
       "      <td>0.00151</td>\n",
       "      <td>0.00073</td>\n",
       "      <td>0.00043</td>\n",
       "    </tr>\n",
       "  </tbody>\n",
       "</table>\n",
       "<p>5 rows × 31 columns</p>\n",
       "</div>"
      ],
      "text/plain": [
       "         Na    Mg    Al     Si        P     S    Cl     K    Ca       Ti  ...  \\\n",
       "Depth                                                                     ...   \n",
       "478.4  0.83  0.35  3.62  16.66  0.02842  0.27  0.00  1.15  0.83  0.17563  ...   \n",
       "478.5  1.29  0.43  4.35  19.07  0.03281  0.85  0.10  1.44  1.05  0.19798  ...   \n",
       "478.6  1.39  1.14  5.83  19.56  0.03926  0.75  0.30  1.20  1.69  0.43200  ...   \n",
       "478.7  1.20  0.46  4.52  19.77  0.04542  0.23  0.07  1.17  1.21  0.21723  ...   \n",
       "478.8  1.84  0.53  4.77  20.29  0.03470  0.27  1.78  1.50  1.20  0.22565  ...   \n",
       "\n",
       "            Rb       Sr        Y       Zr       Nb       Mo       Ba       Pb  \\\n",
       "Depth                                                                           \n",
       "478.4  0.00524  0.03382  0.00215  0.01415  0.00087  0.00032  0.08858  0.00115   \n",
       "478.5  0.00571  0.03785  0.00137  0.00910  0.00112  0.00000  0.09684  0.00094   \n",
       "478.6  0.00487  0.05091  0.00205  0.01494  0.00062  0.00043  0.07692  0.00101   \n",
       "478.7  0.00477  0.03609  0.00176  0.01316  0.00062  0.00032  0.10168  0.00072   \n",
       "478.8  0.00552  0.03598  0.00156  0.00890  0.00087  0.00000  0.12841  0.00151   \n",
       "\n",
       "            Th        U  \n",
       "Depth                    \n",
       "478.4  0.00000  0.00000  \n",
       "478.5  0.00000  0.00000  \n",
       "478.6  0.00146  0.00077  \n",
       "478.7  0.00000  0.00000  \n",
       "478.8  0.00073  0.00043  \n",
       "\n",
       "[5 rows x 31 columns]"
      ]
     },
     "execution_count": 256,
     "metadata": {},
     "output_type": "execute_result"
    }
   ],
   "source": [
    "PredictXrfData=pd.read_csv (r'L:\\D\\DuncanF\\1aa090806904elements.csv')\n",
    "PredictXrfDf=DataFrame(PredictXrfData)\n",
    "PredictXrfDf=PredictXrfDf.set_index('Depth')\n",
    "PredictXrfDf.head()"
   ]
  },
  {
   "cell_type": "code",
   "execution_count": 257,
   "metadata": {},
   "outputs": [
    {
     "data": {
      "text/html": [
       "<div>\n",
       "<style scoped>\n",
       "    .dataframe tbody tr th:only-of-type {\n",
       "        vertical-align: middle;\n",
       "    }\n",
       "\n",
       "    .dataframe tbody tr th {\n",
       "        vertical-align: top;\n",
       "    }\n",
       "\n",
       "    .dataframe thead th {\n",
       "        text-align: right;\n",
       "    }\n",
       "</style>\n",
       "<table border=\"1\" class=\"dataframe\">\n",
       "  <thead>\n",
       "    <tr style=\"text-align: right;\">\n",
       "      <th></th>\n",
       "      <th>Na</th>\n",
       "      <th>Mg</th>\n",
       "      <th>Al</th>\n",
       "      <th>Si</th>\n",
       "      <th>P</th>\n",
       "      <th>S</th>\n",
       "      <th>Cl</th>\n",
       "      <th>K</th>\n",
       "      <th>Ca</th>\n",
       "      <th>Ti</th>\n",
       "      <th>...</th>\n",
       "      <th>Rb</th>\n",
       "      <th>Sr</th>\n",
       "      <th>Y</th>\n",
       "      <th>Zr</th>\n",
       "      <th>Nb</th>\n",
       "      <th>Mo</th>\n",
       "      <th>Ba</th>\n",
       "      <th>Pb</th>\n",
       "      <th>Th</th>\n",
       "      <th>U</th>\n",
       "    </tr>\n",
       "    <tr>\n",
       "      <th>Depth</th>\n",
       "      <th></th>\n",
       "      <th></th>\n",
       "      <th></th>\n",
       "      <th></th>\n",
       "      <th></th>\n",
       "      <th></th>\n",
       "      <th></th>\n",
       "      <th></th>\n",
       "      <th></th>\n",
       "      <th></th>\n",
       "      <th></th>\n",
       "      <th></th>\n",
       "      <th></th>\n",
       "      <th></th>\n",
       "      <th></th>\n",
       "      <th></th>\n",
       "      <th></th>\n",
       "      <th></th>\n",
       "      <th></th>\n",
       "      <th></th>\n",
       "      <th></th>\n",
       "    </tr>\n",
       "  </thead>\n",
       "  <tbody>\n",
       "    <tr>\n",
       "      <td>291.5</td>\n",
       "      <td>1.400892</td>\n",
       "      <td>0.987307</td>\n",
       "      <td>8.444962</td>\n",
       "      <td>28.815236</td>\n",
       "      <td>0.047391</td>\n",
       "      <td>0.660065</td>\n",
       "      <td>0.0</td>\n",
       "      <td>2.008183</td>\n",
       "      <td>0.313410</td>\n",
       "      <td>0.390184</td>\n",
       "      <td>...</td>\n",
       "      <td>0.011997</td>\n",
       "      <td>0.020487</td>\n",
       "      <td>0.002862</td>\n",
       "      <td>0.020016</td>\n",
       "      <td>0.002129</td>\n",
       "      <td>0.000362</td>\n",
       "      <td>0.073610</td>\n",
       "      <td>0.002197</td>\n",
       "      <td>0.001099</td>\n",
       "      <td>0.000000</td>\n",
       "    </tr>\n",
       "    <tr>\n",
       "      <td>291.7</td>\n",
       "      <td>2.192267</td>\n",
       "      <td>0.891897</td>\n",
       "      <td>7.512934</td>\n",
       "      <td>30.522028</td>\n",
       "      <td>0.062330</td>\n",
       "      <td>0.403997</td>\n",
       "      <td>0.0</td>\n",
       "      <td>1.895364</td>\n",
       "      <td>0.276442</td>\n",
       "      <td>0.377849</td>\n",
       "      <td>...</td>\n",
       "      <td>0.010585</td>\n",
       "      <td>0.021759</td>\n",
       "      <td>0.003297</td>\n",
       "      <td>0.024895</td>\n",
       "      <td>0.001708</td>\n",
       "      <td>0.000215</td>\n",
       "      <td>0.071527</td>\n",
       "      <td>0.002605</td>\n",
       "      <td>0.001707</td>\n",
       "      <td>0.000000</td>\n",
       "    </tr>\n",
       "    <tr>\n",
       "      <td>291.9</td>\n",
       "      <td>1.270678</td>\n",
       "      <td>0.953775</td>\n",
       "      <td>7.719398</td>\n",
       "      <td>30.033172</td>\n",
       "      <td>0.096765</td>\n",
       "      <td>0.634428</td>\n",
       "      <td>0.0</td>\n",
       "      <td>1.874682</td>\n",
       "      <td>0.287604</td>\n",
       "      <td>0.325719</td>\n",
       "      <td>...</td>\n",
       "      <td>0.009666</td>\n",
       "      <td>0.019659</td>\n",
       "      <td>0.002861</td>\n",
       "      <td>0.019705</td>\n",
       "      <td>0.001792</td>\n",
       "      <td>0.000670</td>\n",
       "      <td>0.074641</td>\n",
       "      <td>0.002049</td>\n",
       "      <td>0.000630</td>\n",
       "      <td>0.000000</td>\n",
       "    </tr>\n",
       "    <tr>\n",
       "      <td>292.1</td>\n",
       "      <td>1.304300</td>\n",
       "      <td>1.153923</td>\n",
       "      <td>8.962972</td>\n",
       "      <td>28.587291</td>\n",
       "      <td>0.029305</td>\n",
       "      <td>0.524236</td>\n",
       "      <td>0.0</td>\n",
       "      <td>2.007632</td>\n",
       "      <td>0.250124</td>\n",
       "      <td>0.384405</td>\n",
       "      <td>...</td>\n",
       "      <td>0.011892</td>\n",
       "      <td>0.022942</td>\n",
       "      <td>0.002478</td>\n",
       "      <td>0.017906</td>\n",
       "      <td>0.001903</td>\n",
       "      <td>0.000866</td>\n",
       "      <td>0.080349</td>\n",
       "      <td>0.002707</td>\n",
       "      <td>0.001777</td>\n",
       "      <td>0.000574</td>\n",
       "    </tr>\n",
       "    <tr>\n",
       "      <td>292.3</td>\n",
       "      <td>1.460732</td>\n",
       "      <td>0.943332</td>\n",
       "      <td>8.366978</td>\n",
       "      <td>27.843581</td>\n",
       "      <td>0.022133</td>\n",
       "      <td>0.659656</td>\n",
       "      <td>0.0</td>\n",
       "      <td>1.846548</td>\n",
       "      <td>0.176400</td>\n",
       "      <td>0.348602</td>\n",
       "      <td>...</td>\n",
       "      <td>0.011851</td>\n",
       "      <td>0.020452</td>\n",
       "      <td>0.002585</td>\n",
       "      <td>0.016786</td>\n",
       "      <td>0.002024</td>\n",
       "      <td>0.000545</td>\n",
       "      <td>0.069900</td>\n",
       "      <td>0.002792</td>\n",
       "      <td>0.001587</td>\n",
       "      <td>0.000769</td>\n",
       "    </tr>\n",
       "  </tbody>\n",
       "</table>\n",
       "<p>5 rows × 31 columns</p>\n",
       "</div>"
      ],
      "text/plain": [
       "             Na        Mg        Al         Si         P         S   Cl  \\\n",
       "Depth                                                                     \n",
       "291.5  1.400892  0.987307  8.444962  28.815236  0.047391  0.660065  0.0   \n",
       "291.7  2.192267  0.891897  7.512934  30.522028  0.062330  0.403997  0.0   \n",
       "291.9  1.270678  0.953775  7.719398  30.033172  0.096765  0.634428  0.0   \n",
       "292.1  1.304300  1.153923  8.962972  28.587291  0.029305  0.524236  0.0   \n",
       "292.3  1.460732  0.943332  8.366978  27.843581  0.022133  0.659656  0.0   \n",
       "\n",
       "              K        Ca        Ti  ...        Rb        Sr         Y  \\\n",
       "Depth                                ...                                 \n",
       "291.5  2.008183  0.313410  0.390184  ...  0.011997  0.020487  0.002862   \n",
       "291.7  1.895364  0.276442  0.377849  ...  0.010585  0.021759  0.003297   \n",
       "291.9  1.874682  0.287604  0.325719  ...  0.009666  0.019659  0.002861   \n",
       "292.1  2.007632  0.250124  0.384405  ...  0.011892  0.022942  0.002478   \n",
       "292.3  1.846548  0.176400  0.348602  ...  0.011851  0.020452  0.002585   \n",
       "\n",
       "             Zr        Nb        Mo        Ba        Pb        Th         U  \n",
       "Depth                                                                        \n",
       "291.5  0.020016  0.002129  0.000362  0.073610  0.002197  0.001099  0.000000  \n",
       "291.7  0.024895  0.001708  0.000215  0.071527  0.002605  0.001707  0.000000  \n",
       "291.9  0.019705  0.001792  0.000670  0.074641  0.002049  0.000630  0.000000  \n",
       "292.1  0.017906  0.001903  0.000866  0.080349  0.002707  0.001777  0.000574  \n",
       "292.3  0.016786  0.002024  0.000545  0.069900  0.002792  0.001587  0.000769  \n",
       "\n",
       "[5 rows x 31 columns]"
      ]
     },
     "execution_count": 257,
     "metadata": {},
     "output_type": "execute_result"
    }
   ],
   "source": [
    "elements.head()"
   ]
  },
  {
   "cell_type": "code",
   "execution_count": 258,
   "metadata": {
    "scrolled": true
   },
   "outputs": [
    {
     "data": {
      "text/html": [
       "<div>\n",
       "<style scoped>\n",
       "    .dataframe tbody tr th:only-of-type {\n",
       "        vertical-align: middle;\n",
       "    }\n",
       "\n",
       "    .dataframe tbody tr th {\n",
       "        vertical-align: top;\n",
       "    }\n",
       "\n",
       "    .dataframe thead th {\n",
       "        text-align: right;\n",
       "    }\n",
       "</style>\n",
       "<table border=\"1\" class=\"dataframe\">\n",
       "  <thead>\n",
       "    <tr style=\"text-align: right;\">\n",
       "      <th></th>\n",
       "      <th>Qtz</th>\n",
       "      <th>Kspar</th>\n",
       "      <th>Plag</th>\n",
       "      <th>Kaolinite</th>\n",
       "      <th>Illite</th>\n",
       "      <th>Smectite</th>\n",
       "      <th>Chlorite</th>\n",
       "      <th>Calcite</th>\n",
       "      <th>Dolomite</th>\n",
       "      <th>Ankerite</th>\n",
       "      <th>Pyrite</th>\n",
       "      <th>Coal</th>\n",
       "      <th>Clays</th>\n",
       "    </tr>\n",
       "    <tr>\n",
       "      <th>Depth</th>\n",
       "      <th></th>\n",
       "      <th></th>\n",
       "      <th></th>\n",
       "      <th></th>\n",
       "      <th></th>\n",
       "      <th></th>\n",
       "      <th></th>\n",
       "      <th></th>\n",
       "      <th></th>\n",
       "      <th></th>\n",
       "      <th></th>\n",
       "      <th></th>\n",
       "      <th></th>\n",
       "    </tr>\n",
       "  </thead>\n",
       "  <tbody>\n",
       "    <tr>\n",
       "      <td>478.4</td>\n",
       "      <td>26.703926</td>\n",
       "      <td>9.911747</td>\n",
       "      <td>21.654069</td>\n",
       "      <td>3.668709</td>\n",
       "      <td>2.842344</td>\n",
       "      <td>10.362543</td>\n",
       "      <td>0.984815</td>\n",
       "      <td>16.855833</td>\n",
       "      <td>0.0</td>\n",
       "      <td>3.294390</td>\n",
       "      <td>0.800767</td>\n",
       "      <td>3.140688</td>\n",
       "      <td>17.787484</td>\n",
       "    </tr>\n",
       "    <tr>\n",
       "      <td>478.5</td>\n",
       "      <td>25.744917</td>\n",
       "      <td>12.678910</td>\n",
       "      <td>29.135701</td>\n",
       "      <td>3.531079</td>\n",
       "      <td>2.439266</td>\n",
       "      <td>9.610209</td>\n",
       "      <td>1.233653</td>\n",
       "      <td>9.185712</td>\n",
       "      <td>0.0</td>\n",
       "      <td>2.799215</td>\n",
       "      <td>0.877271</td>\n",
       "      <td>3.295198</td>\n",
       "      <td>17.915915</td>\n",
       "    </tr>\n",
       "    <tr>\n",
       "      <td>478.6</td>\n",
       "      <td>8.449219</td>\n",
       "      <td>8.125755</td>\n",
       "      <td>27.870676</td>\n",
       "      <td>6.285626</td>\n",
       "      <td>2.037812</td>\n",
       "      <td>22.098224</td>\n",
       "      <td>1.330669</td>\n",
       "      <td>8.386228</td>\n",
       "      <td>0.0</td>\n",
       "      <td>11.365902</td>\n",
       "      <td>1.622790</td>\n",
       "      <td>2.194902</td>\n",
       "      <td>32.719502</td>\n",
       "    </tr>\n",
       "    <tr>\n",
       "      <td>478.7</td>\n",
       "      <td>24.450390</td>\n",
       "      <td>9.657850</td>\n",
       "      <td>25.796825</td>\n",
       "      <td>4.360571</td>\n",
       "      <td>2.033832</td>\n",
       "      <td>14.718894</td>\n",
       "      <td>0.863044</td>\n",
       "      <td>10.439435</td>\n",
       "      <td>0.0</td>\n",
       "      <td>4.684652</td>\n",
       "      <td>0.791042</td>\n",
       "      <td>2.655014</td>\n",
       "      <td>21.886978</td>\n",
       "    </tr>\n",
       "    <tr>\n",
       "      <td>478.8</td>\n",
       "      <td>30.096110</td>\n",
       "      <td>10.567037</td>\n",
       "      <td>28.220089</td>\n",
       "      <td>4.548880</td>\n",
       "      <td>4.001541</td>\n",
       "      <td>3.365724</td>\n",
       "      <td>1.249566</td>\n",
       "      <td>7.450542</td>\n",
       "      <td>0.0</td>\n",
       "      <td>6.417727</td>\n",
       "      <td>1.189270</td>\n",
       "      <td>5.815319</td>\n",
       "      <td>13.324948</td>\n",
       "    </tr>\n",
       "  </tbody>\n",
       "</table>\n",
       "</div>"
      ],
      "text/plain": [
       "             Qtz      Kspar       Plag  Kaolinite    Illite   Smectite  \\\n",
       "Depth                                                                    \n",
       "478.4  26.703926   9.911747  21.654069   3.668709  2.842344  10.362543   \n",
       "478.5  25.744917  12.678910  29.135701   3.531079  2.439266   9.610209   \n",
       "478.6   8.449219   8.125755  27.870676   6.285626  2.037812  22.098224   \n",
       "478.7  24.450390   9.657850  25.796825   4.360571  2.033832  14.718894   \n",
       "478.8  30.096110  10.567037  28.220089   4.548880  4.001541   3.365724   \n",
       "\n",
       "       Chlorite    Calcite  Dolomite   Ankerite    Pyrite      Coal      Clays  \n",
       "Depth                                                                           \n",
       "478.4  0.984815  16.855833       0.0   3.294390  0.800767  3.140688  17.787484  \n",
       "478.5  1.233653   9.185712       0.0   2.799215  0.877271  3.295198  17.915915  \n",
       "478.6  1.330669   8.386228       0.0  11.365902  1.622790  2.194902  32.719502  \n",
       "478.7  0.863044  10.439435       0.0   4.684652  0.791042  2.655014  21.886978  \n",
       "478.8  1.249566   7.450542       0.0   6.417727  1.189270  5.815319  13.324948  "
      ]
     },
     "execution_count": 258,
     "metadata": {},
     "output_type": "execute_result"
    }
   ],
   "source": [
    "PredictXrfDf=PredictXrfDf.dropna()\n",
    "Results=DataFrame(index=PredictXrfDf.index)\n",
    "Results['Qtz'] = lregQtz.predict(PredictXrfDf)\n",
    "Results['Kspar'] = lregKspar.predict(PredictXrfDf)\n",
    "Results['Plag'] = lregPlag.predict(PredictXrfDf)\n",
    "Results['Kaolinite'] = lregKaolinite.predict(PredictXrfDf)\n",
    "Results['Illite'] = lregIllite.predict(PredictXrfDf)\n",
    "Results['Smectite'] = lregSmectite.predict(PredictXrfDf)\n",
    "Results['Chlorite'] = lregChlorite.predict(PredictXrfDf)\n",
    "Results['Calcite'] = lregCalcite.predict(PredictXrfDf)\n",
    "Results['Dolomite'] = lregDolomite.predict(PredictXrfDf)\n",
    "Results['Ankerite'] = lregAnkerite.predict(PredictXrfDf)\n",
    "Results['Pyrite'] = lregPyrite.predict(PredictXrfDf)\n",
    "Results['Smectite'] = lregSmectite.predict(PredictXrfDf)\n",
    "Results['Coal'] = lregCoal.predict(PredictXrfDf)\n",
    "Results['Clays'] = lregClays.predict(PredictXrfDf)\n",
    "Results[Results < 0] = 0\n",
    "Results.head()\n"
   ]
  },
  {
   "cell_type": "code",
   "execution_count": 259,
   "metadata": {},
   "outputs": [],
   "source": [
    "Results.to_csv(r'L:\\D\\DuncanF\\1aa090806904elementsPred.csv')"
   ]
  },
  {
   "cell_type": "code",
   "execution_count": null,
   "metadata": {},
   "outputs": [],
   "source": []
  }
 ],
 "metadata": {
  "kernelspec": {
   "display_name": "Python 3",
   "language": "python",
   "name": "python3"
  },
  "language_info": {
   "codemirror_mode": {
    "name": "ipython",
    "version": 3
   },
   "file_extension": ".py",
   "mimetype": "text/x-python",
   "name": "python",
   "nbconvert_exporter": "python",
   "pygments_lexer": "ipython3",
   "version": "3.7.4"
  }
 },
 "nbformat": 4,
 "nbformat_minor": 2
}
